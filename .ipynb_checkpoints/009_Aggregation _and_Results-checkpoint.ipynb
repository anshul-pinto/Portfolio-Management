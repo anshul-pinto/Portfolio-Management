{
 "cells": [
  {
   "cell_type": "code",
   "execution_count": 1,
   "metadata": {},
   "outputs": [],
   "source": [
    "import numpy as np\n",
    "import pandas as pd\n",
    "import matplotlib.pyplot as plt"
   ]
  },
  {
   "cell_type": "code",
   "execution_count": 2,
   "metadata": {},
   "outputs": [],
   "source": [
    "def give_quarter_performance(Predictions,Labels,quarter):\n",
    "    quarter = str(quarter)\n",
    "    Q = Predictions[quarter]\n",
    "    Q_labels = Labels[quarter]\n",
    "    Q = Q.sort_values(ascending=False)\n",
    "    Q_top_30 = Q[:30]\n",
    "    \n",
    "    top_30_labels = []\n",
    "\n",
    "    for index in Q_top_30.index:\n",
    "        row = Q_labels.loc[index]\n",
    "        top_30_labels.append(row)\n",
    "    \n",
    "    labels_series = pd.Series(top_30_labels)\n",
    "    final_df = pd.DataFrame({'Preds': Q_top_30.values,'Labels': labels_series.values},index=Q_top_30.index)\n",
    "    \n",
    "    return final_df\n",
    "\n",
    "def quarter_performance(Quarter_result):    \n",
    "    portfolio_start = 30\n",
    "    portfolio_end = 0\n",
    "    for value in Quarter_result['Labels'].values:\n",
    "        portfolio_end = portfolio_end + 1 + value\n",
    "    \n",
    "    perfomance = ((portfolio_end-portfolio_start)/portfolio_start)*100\n",
    "    return perfomance\n",
    "        \n",
    "def total_performance(num_quarters,Predictions,labels_df, model):\n",
    "    total_returns = 100\n",
    "    q_turnouts = [100]\n",
    "    q_pers = []\n",
    "    for quarter in range(num_quarters):\n",
    "        Q_result = give_quarter_performance(Predictions,labels_df,quarter)\n",
    "        Q_per = quarter_performance(Q_result)\n",
    "        \n",
    "        total_returns = total_returns * (1+(Q_per/100))\n",
    "        print('Quarter '+str(quarter+1)+' Result :' +str(\"%.2f\" % Q_per)+' %')\n",
    "        q_turnouts.append(total_returns)\n",
    "        q_pers.append(Q_per)\n",
    "    \n",
    "    compounded_result = total_returns-100\n",
    "    q_avg_return = (pow(total_returns/100, 1/num_quarters) - 1) * 100\n",
    "    CAGR = (pow(total_returns/100, 1/(num_quarters/4)) - 1) * 100\n",
    "    \n",
    "    print('Compounded Result :'+str(\"%.2f\" % compounded_result)+str(' %'))\n",
    "    print('Quarterly Compounded Growth Rate :',\"%.2f\" % q_avg_return, '%')\n",
    "    print('CAGR :',\"%.2f\" %  CAGR, '%')\n",
    "    print('Sharpe Ratio :',\"%.2f\" %  ((4**0.5) * q_avg_return/np.std(q_pers)))    \n",
    "    \n",
    "    positives = []\n",
    "    for q_per in q_pers:\n",
    "        if q_per >0:\n",
    "            positives.append(True)\n",
    "        else:\n",
    "            positives.append(False)\n",
    "            \n",
    "    positives = pd.Series(positives)\n",
    "    \n",
    "#     f, (ax1, ax2) = plt.subplots(1, 2, sharey=True)\n",
    "#     ax1.plot(x, y)\n",
    "#     ax1.set_title('Sharing Y axis')\n",
    "#     ax2.scatter(x, y)\n",
    "\n",
    "    fig = plt.figure(figsize=(7,5))\n",
    "    title = fig.suptitle('Portfolio Performance of '+str(model)+' model')\n",
    "    \n",
    "    ax1 = fig.add_subplot(1,2,1)\n",
    "    ax1.bar(np.arange(1,len(q_pers)+1),q_pers,color=positives.map({True: 'g', False: 'r'}),width = 0.5)\n",
    "    ax1.axhline(0,color='black')\n",
    "    ax1.set_ylabel('Returns in Percentage across Quarters')\n",
    "    ax1.set_xlabel('Quarters')\n",
    "    \n",
    "    \n",
    "    ax2 = fig.add_subplot(1,2,2)\n",
    "    ax2.plot(np.arange(1,len(q_turnouts)+1),q_turnouts,label = 'Portolio Value',color = 'green')\n",
    "    ax2.set_xlabel('Quarters')\n",
    "    ax2.set_ylabel('Portfolio Value across Quarters')\n",
    "    ax2.set_title()\n",
    "    plt.show() \n",
    "    \n",
    "    return compounded_result"
   ]
  },
  {
   "cell_type": "code",
   "execution_count": 3,
   "metadata": {
    "scrolled": false
   },
   "outputs": [
    {
     "name": "stdout",
     "output_type": "stream",
     "text": [
      "Quarter 1 Result :8.88 %\n",
      "Quarter 2 Result :7.61 %\n",
      "Quarter 3 Result :5.60 %\n",
      "Quarter 4 Result :4.93 %\n",
      "Quarter 5 Result :5.68 %\n",
      "Quarter 6 Result :-2.77 %\n",
      "Quarter 7 Result :0.94 %\n",
      "Quarter 8 Result :9.07 %\n",
      "Compounded Result :46.88 %\n",
      "Quarterly Compounded Growth Rate : 4.92 %\n",
      "CAGR : 21.19 %\n",
      "Sharpe Ratio : 2.58\n"
     ]
    },
    {
     "data": {
      "image/png": "[encoded data removed]",
      "text/plain": [
       "<Figure size 504x360 with 1 Axes>"
      ]
     },
     "metadata": {
      "needs_background": "light"
     },
     "output_type": "display_data"
    },
    {
     "name": "stdout",
     "output_type": "stream",
     "text": [
      "Quarter 1 Result :7.77 %\n",
      "Quarter 2 Result :6.01 %\n",
      "Quarter 3 Result :4.99 %\n",
      "Quarter 4 Result :3.81 %\n",
      "Quarter 5 Result :8.55 %\n",
      "Quarter 6 Result :-6.78 %\n",
      "Quarter 7 Result :-2.48 %\n",
      "Quarter 8 Result :11.03 %\n",
      "Compounded Result :36.42 %\n",
      "Quarterly Compounded Growth Rate : 3.96 %\n",
      "CAGR : 16.80 %\n",
      "Sharpe Ratio : 1.42\n"
     ]
    },
    {
     "data": {
      "image/png": "[encoded data removed]",
      "text/plain": [
       "<Figure size 504x360 with 1 Axes>"
      ]
     },
     "metadata": {
      "needs_background": "light"
     },
     "output_type": "display_data"
    },
    {
     "name": "stdout",
     "output_type": "stream",
     "text": [
      "Quarter 1 Result :7.60 %\n",
      "Quarter 2 Result :8.37 %\n",
      "Quarter 3 Result :4.73 %\n",
      "Quarter 4 Result :1.69 %\n",
      "Quarter 5 Result :5.78 %\n",
      "Quarter 6 Result :-5.04 %\n",
      "Quarter 7 Result :-2.80 %\n",
      "Quarter 8 Result :8.34 %\n",
      "Compounded Result :31.38 %\n",
      "Quarterly Compounded Growth Rate : 3.47 %\n",
      "CAGR : 14.62 %\n",
      "Sharpe Ratio : 1.44\n"
     ]
    },
    {
     "data": {
      "image/png": "[encoded data removed]",
      "text/plain": [
       "<Figure size 504x360 with 1 Axes>"
      ]
     },
     "metadata": {
      "needs_background": "light"
     },
     "output_type": "display_data"
    },
    {
     "name": "stdout",
     "output_type": "stream",
     "text": [
      "Quarter 1 Result :7.56 %\n",
      "Quarter 2 Result :6.07 %\n",
      "Quarter 3 Result :6.40 %\n",
      "Quarter 4 Result :1.59 %\n",
      "Quarter 5 Result :6.65 %\n",
      "Quarter 6 Result :-5.83 %\n",
      "Quarter 7 Result :-3.52 %\n",
      "Quarter 8 Result :7.58 %\n",
      "Compounded Result :28.57 %\n",
      "Quarterly Compounded Growth Rate : 3.19 %\n",
      "CAGR : 13.39 %\n",
      "Sharpe Ratio : 1.28\n"
     ]
    },
    {
     "data": {
      "image/png": "[encoded data removed]",
      "text/plain": [
       "<Figure size 504x360 with 1 Axes>"
      ]
     },
     "metadata": {
      "needs_background": "light"
     },
     "output_type": "display_data"
    },
    {
     "name": "stdout",
     "output_type": "stream",
     "text": [
      "Quarter 1 Result :6.43 %\n",
      "Quarter 2 Result :5.55 %\n",
      "Quarter 3 Result :2.56 %\n",
      "Quarter 4 Result :5.98 %\n",
      "Quarter 5 Result :3.13 %\n",
      "Quarter 6 Result :-8.84 %\n",
      "Quarter 7 Result :-1.77 %\n",
      "Quarter 8 Result :7.72 %\n",
      "Compounded Result :21.47 %\n",
      "Quarterly Compounded Growth Rate : 2.46 %\n",
      "CAGR : 10.22 %\n",
      "Sharpe Ratio : 0.96\n"
     ]
    },
    {
     "data": {
      "image/png": "[encoded data removed]",
      "text/plain": [
       "<Figure size 504x360 with 1 Axes>"
      ]
     },
     "metadata": {
      "needs_background": "light"
     },
     "output_type": "display_data"
    },
    {
     "name": "stdout",
     "output_type": "stream",
     "text": [
      "Quarter 1 Result :7.79 %\n",
      "Quarter 2 Result :3.14 %\n",
      "Quarter 3 Result :3.08 %\n",
      "Quarter 4 Result :-2.02 %\n",
      "Quarter 5 Result :3.26 %\n",
      "Quarter 6 Result :-7.49 %\n",
      "Quarter 7 Result :-1.98 %\n",
      "Quarter 8 Result :8.46 %\n",
      "Compounded Result :14.03 %\n",
      "Quarterly Compounded Growth Rate : 1.65 %\n",
      "CAGR : 6.78 %\n",
      "Sharpe Ratio : 0.66\n"
     ]
    },
    {
     "data": {
      "image/png": "[encoded data removed]",
      "text/plain": [
       "<Figure size 504x360 with 1 Axes>"
      ]
     },
     "metadata": {
      "needs_background": "light"
     },
     "output_type": "display_data"
    }
   ],
   "source": [
    "Models = ['RF','Lasso','Bagging','Elastic_Net','Ridge','NN']\n",
    "Agg_Models = ['Lasso','RF','Bagging','Elastic_Net']\n",
    "Labels = pd.read_csv('./Labels_and_Preds/Labels.csv',delimiter =',',index_col = 'Unnamed: 0')\n",
    "Model_Results = []\n",
    "\n",
    "for model in Models:\n",
    "    Preds = pd.read_csv('./Labels_and_Preds/Predictions_'+model+'.csv', delimiter = ',', index_col = 'Unnamed: 0')\n",
    "    Model_Results.append(total_performance(8,Preds,Labels,model))"
   ]
  },
  {
   "cell_type": "code",
   "execution_count": 4,
   "metadata": {},
   "outputs": [
    {
     "data": {
      "image/png": "[encoded data removed]",
      "text/plain": [
       "<Figure size 864x576 with 1 Axes>"
      ]
     },
     "metadata": {
      "needs_background": "light"
     },
     "output_type": "display_data"
    }
   ],
   "source": [
    "Model_Results = pd.Series(Model_Results)\n",
    "\n",
    "plt.figure(figsize=(12, 8))\n",
    "ax = Model_Results.plot(kind='bar', color = 'green')\n",
    "ax.set_title('Absolute Returns of Models')\n",
    "ax.set_xlabel('Models')\n",
    "ax.set_ylabel('Percentage Growth')\n",
    "ax.set_xticklabels(Models)\n",
    "\n",
    "rects = ax.patches\n",
    "\n",
    "# Make some labels.\n",
    "labels = [\"%.2f\" % val for val in Model_Results.values]\n",
    "\n",
    "for rect, label in zip(rects, labels):\n",
    "    height = rect.get_height()\n",
    "    ax.text(rect.get_x() + rect.get_width() / 2, height + 0.75, label,\n",
    "            ha='center', va='bottom')\n",
    "\n"
   ]
  },
  {
   "cell_type": "markdown",
   "metadata": {},
   "source": [
    "# Aggregation"
   ]
  },
  {
   "cell_type": "code",
   "execution_count": 5,
   "metadata": {},
   "outputs": [],
   "source": [
    "def aggregate(Models,num_quarters):\n",
    "    model_dfs = []\n",
    "    for model in Models:\n",
    "        Preds = pd.read_csv('./Labels_and_Preds/Predictions_'+model+'.csv', delimiter = ',', index_col = 'Unnamed: 0')\n",
    "        model_df = pd.DataFrame()\n",
    "        for quarter in range(num_quarters):\n",
    "            Q_portfolio = give_quarter_performance(Preds,Labels,quarter)\n",
    "            temp_df = pd.DataFrame(Q_portfolio.index)\n",
    "            model_df = pd.concat([model_df,temp_df], ignore_index= True, axis =1)\n",
    "\n",
    "        model_dfs.append(model_df)\n",
    "        \n",
    "    return model_dfs"
   ]
  },
  {
   "cell_type": "code",
   "execution_count": 13,
   "metadata": {},
   "outputs": [],
   "source": [
    "Agg_Models = ['Lasso','RF','NN']\n",
    "Q = aggregate(Agg_Models,8)"
   ]
  },
  {
   "cell_type": "code",
   "execution_count": 7,
   "metadata": {},
   "outputs": [
    {
     "data": {
      "text/plain": [
       "'\\n0: Lasso\\n1: NN\\n2: RF\\n3: Elastic Net\\n4: Bagging\\n5: Ridge\\n'"
      ]
     },
     "execution_count": 7,
     "metadata": {},
     "output_type": "execute_result"
    }
   ],
   "source": [
    "'''\n",
    "0: Lasso\n",
    "1: NN\n",
    "2: RF\n",
    "3: Elastic Net\n",
    "4: Bagging\n",
    "5: Ridge\n",
    "'''"
   ]
  },
  {
   "cell_type": "code",
   "execution_count": 14,
   "metadata": {},
   "outputs": [],
   "source": [
    "import operator\n",
    "import itertools\n",
    "\n",
    "def bootstrap_aggregate(model_outputs):\n",
    "    Overall_aggregate = []\n",
    "    num_quarters = model_outputs[0].shape[1]\n",
    "    for i in range(num_quarters):\n",
    "        Quarter_aggregate = {}\n",
    "        for j in range(len(model_outputs)):\n",
    "            model_portfolio = model_outputs[j][i].values\n",
    "            for value in model_portfolio:\n",
    "                value = str(value)\n",
    "                if value in Quarter_aggregate:\n",
    "                    Quarter_aggregate[value]+=1\n",
    "                else:\n",
    "                    Quarter_aggregate[value] = 1\n",
    "                    \n",
    "        Quarter_aggregate_sorted = dict( sorted(Quarter_aggregate.items(), key=operator.itemgetter(1),reverse=True))\n",
    "        Quarter_aggregate_top_30 = dict(itertools.islice(Quarter_aggregate_sorted.items(), 30))\n",
    "        Quarter_aggregate_df = pd.DataFrame(list(Quarter_aggregate_top_30.items()))\n",
    "        Overall_aggregate.append(Quarter_aggregate_df)\n",
    "\n",
    "    return Overall_aggregate\n"
   ]
  },
  {
   "cell_type": "code",
   "execution_count": 15,
   "metadata": {},
   "outputs": [],
   "source": [
    "Overall_bootstrap_agg = bootstrap_aggregate(Q)"
   ]
  },
  {
   "cell_type": "code",
   "execution_count": 16,
   "metadata": {},
   "outputs": [],
   "source": [
    "def aggregated_performance_top_30(Overall_bootstrap,Labels):\n",
    "    num_quarters = len(Overall_bootstrap)\n",
    "    \n",
    "    total_returns = 100\n",
    "    q_pers = []\n",
    "    for quarter in range(num_quarters):\n",
    "        assets = Overall_bootstrap[quarter][0].values\n",
    "        q_performance = 0\n",
    "        asset_labels = Labels[str(quarter)]\n",
    "        \n",
    "        for asset in assets:\n",
    "            asset_performance = asset_labels.loc[(asset)] \n",
    "            q_performance = q_performance + 1 + asset_performance\n",
    "            q_per = ((q_performance-30)/30)*100\n",
    "        \n",
    "        total_returns = total_returns * (1+(q_per/100))\n",
    "        \n",
    "        print('Quarter '+str(quarter+1)+' Result :' +str(\"%.2f\" % q_per)+' %')\n",
    "        q_pers.append(q_per)\n",
    "        \n",
    "#     compounded_result = total_returns-100\n",
    "#     q_avg_return = pow(total_returns/100, 1/num_quarters) - 1\n",
    "#     CAGR = pow(total_returns/100, 1/(num_quarters/4)) - 1\n",
    "    \n",
    "#     print('Compounded Result :'+str(compounded_result)+str(' %'))\n",
    "#     print('Quarterly Compounded Growth Rate :', q_avg_return*100, '%')\n",
    "#     print('Annual Compounded Growth Rate :', CAGR*100, '%')\n",
    "#     print('Sharpe Ratio :', pow(q_avg_return*100/np.std(q_pers),1/4))\n",
    "    \n",
    "    compounded_result = total_returns-100\n",
    "    q_avg_return = (pow(total_returns/100, 1/num_quarters) - 1) * 100\n",
    "    CAGR = (pow(total_returns/100, 1/(num_quarters/4)) - 1) * 100\n",
    "    \n",
    "    print('Compounded Result :'+str(\"%.2f\" % compounded_result)+str(' %'))\n",
    "    print('Quarterly Compounded Growth Rate :',\"%.2f\" % q_avg_return, '%')\n",
    "    print('CAGR :',\"%.2f\" %  CAGR, '%')\n",
    "    print('Sharpe Ratio :',\"%.2f\" % (4**0.5 * (q_avg_return/np.std(q_pers))))  \n",
    "    \n",
    "    positives = []\n",
    "    for q_per in q_pers:\n",
    "        if q_per >0:\n",
    "            positives.append(True)\n",
    "        else:\n",
    "            positives.append(False)\n",
    "            \n",
    "    positives = pd.Series(positives)\n",
    "    \n",
    "    plt.figure(figsize=(7,5))\n",
    "    plt.bar(np.arange(1,len(q_pers)+1),q_pers,color=positives.map({True: 'g', False: 'r'}),width = 0.5)\n",
    "    plt.axhline(0,color='black')\n",
    "    plt.ylabel('Performance in Percentage')\n",
    "    plt.xlabel('Quarters')\n",
    "    plt.title('Portfolio Performance of Aggregated model')\n",
    "    plt.show()"
   ]
  },
  {
   "cell_type": "code",
   "execution_count": 17,
   "metadata": {},
   "outputs": [
    {
     "name": "stdout",
     "output_type": "stream",
     "text": [
      "Quarter 1 Result :9.07 %\n",
      "Quarter 2 Result :5.57 %\n",
      "Quarter 3 Result :5.51 %\n",
      "Quarter 4 Result :5.42 %\n",
      "Quarter 5 Result :7.58 %\n",
      "Quarter 6 Result :-4.56 %\n",
      "Quarter 7 Result :-1.92 %\n",
      "Quarter 8 Result :9.07 %\n",
      "Compounded Result :40.65 %\n",
      "Quarterly Compounded Growth Rate : 4.36 %\n",
      "CAGR : 18.60 %\n",
      "Sharpe Ratio : 1.85\n"
     ]
    },
    {
     "data": {
      "image/png": "[encoded data removed]",
      "text/plain": [
       "<Figure size 504x360 with 1 Axes>"
      ]
     },
     "metadata": {
      "needs_background": "light"
     },
     "output_type": "display_data"
    }
   ],
   "source": [
    "aggregated_performance_top_30(Overall_bootstrap_agg,Labels)"
   ]
  },
  {
   "cell_type": "code",
   "execution_count": 12,
   "metadata": {},
   "outputs": [],
   "source": [
    "# thresholding done\n",
    "# binarisation done\n",
    "# denoising - local means, NLM, gaussian - done\n",
    "# dilation - done\n",
    "# erosion - done\n",
    "# segmentation \n",
    "# brightness \n",
    "# contrast \n",
    "# histogram equalization - done\n",
    "# linear stretching "
   ]
  },
  {
   "cell_type": "code",
   "execution_count": null,
   "metadata": {},
   "outputs": [],
   "source": []
  }
 ],
 "metadata": {
  "kernelspec": {
   "display_name": "Python 3",
   "language": "python",
   "name": "python3"
  },
  "language_info": {
   "codemirror_mode": {
    "name": "ipython",
    "version": 3
   },
   "file_extension": ".py",
   "mimetype": "text/x-python",
   "name": "python",
   "nbconvert_exporter": "python",
   "pygments_lexer": "ipython3",
   "version": "3.7.3"
  }
 },
 "nbformat": 4,
 "nbformat_minor": 2
}
